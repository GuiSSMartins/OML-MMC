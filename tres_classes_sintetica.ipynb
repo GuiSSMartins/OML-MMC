{
 "cells": [
  {
   "cell_type": "code",
   "execution_count": 1,
   "metadata": {},
   "outputs": [],
   "source": [
    "import numpy as np\n",
    "import matplotlib.pyplot as plt\n",
    "from CLogDKPd import CLogDKPd_MGE, CLogDKPd_MGmB, CLogDKPd_MGE_Ordenado, sigmoid, threshold\n",
    "import numpy as np\n",
    "import pandas as pd\n",
    "import matplotlib.pyplot as plt\n",
    "from tensorflow.keras.datasets import mnist\n",
    "from sklearn.metrics import confusion_matrix\n",
    "import seaborn as sns"
   ]
  },
  {
   "cell_type": "code",
   "execution_count": 2,
   "metadata": {},
   "outputs": [
    {
     "data": {
      "image/png": "[encoded data removed]",
      "text/plain": [
       "<Figure size 1200x1000 with 1 Axes>"
      ]
     },
     "metadata": {},
     "output_type": "display_data"
    }
   ],
   "source": [
    "# Dados fornecidos\n",
    "X = np.array([[1, 1, 1], [1, 1, 2], [1, 2, 2], [1, 2, 1],\n",
    "              [1, -1, 1], [1, -1, 2], [1, -2, 2], [1, -2, 1],\n",
    "              [1, 0, -1], [1, 0, -2], [1, 1, -2], [1, 1, -1]])\n",
    "Y = np.array([0, 0, 0, 0, 1, 1, 1, 1, 2, 2, 2, 2])\n",
    "\n",
    "# Coordenadas X e Y (ignorando a primeira coluna de 1s)\n",
    "x_coords = X[:, 1]\n",
    "y_coords = X[:, 2]\n",
    "\n",
    "# Mapeando as classes para cores com verde escuro e brilhante para a classe 2\n",
    "colors = {0: 'b', 1: 'r', 2: 'g'}  # Verde escuro e brilhante\n",
    "class_colors = [colors[y] for y in Y]\n",
    "\n",
    "# Visualizando os pontos\n",
    "plt.figure(figsize=(12, 10))  # Aumenta o tamanho do gráfico\n",
    "scatter = plt.scatter(x_coords, y_coords, c=class_colors)\n",
    "plt.title(\"Plot dos Pontos \")\n",
    "plt.xlabel(\"X\")\n",
    "plt.ylabel(\"Y\")\n",
    "plt.grid(True)\n",
    "\n",
    "# Definindo os limites dos eixos\n",
    "plt.xlim(-3, 3)\n",
    "plt.ylim(-3, 3)\n",
    "# Adicionando legenda fora do gráfico\n",
    "handles = [plt.Line2D([0], [0], marker='o', color='w', markerfacecolor=colors[i], markersize=10, label=f'Classe {i}') for i in colors]\n",
    "plt.legend(handles=handles, title=\"\", loc='upper left', bbox_to_anchor=(1, 1))\n",
    "plt.show()"
   ]
  },
  {
   "cell_type": "code",
   "execution_count": 3,
   "metadata": {},
   "outputs": [],
   "source": [
    "X = np.array([[1,1,1],[1,1,2],[1,2,2],[1,2,1],[1,-1,1],[1,-1,2],[1,-2,2],[1,-2,1],[1,0,-1],[1,0,-2],[1,1,-2],[1,1,-1]])\n",
    "Y = np.array([0, 0, 0, 0, 1, 1, 1, 1, 2, 2, 2, 2])\n",
    "\n",
    "\n",
    "\n",
    "train_filter = np.where((Y == 0) | (Y == 1))\n",
    "x_train_0_1, y_train_0_1 = X[train_filter], Y[train_filter]\n",
    "y_train_0_1[y_train_0_1==0]=0\n",
    "y_train_0_1[y_train_0_1==1]=1\n",
    "\n",
    "train_filter = np.where((Y == 0) | (Y == 2))\n",
    "x_train_0_2, y_train_0_2 = X[train_filter], Y[train_filter]\n",
    "y_train_0_2[y_train_0_2==0]=0\n",
    "y_train_0_2[y_train_0_2==2]=1\n",
    "\n",
    "train_filter = np.where((Y == 1) | (Y == 2))\n",
    "x_train_1_2, y_train_1_2 = X[train_filter], Y[train_filter]\n",
    "y_train_1_2[y_train_1_2==2]=0\n",
    "y_train_1_2[y_train_1_2==1]=1"
   ]
  },
  {
   "cell_type": "code",
   "execution_count": 4,
   "metadata": {},
   "outputs": [],
   "source": [
    "eta = 0.5\n",
    "epochs = 50\n",
    "alpha = np.zeros(len(x_train_0_1))\n",
    "d=2\n",
    "batch_size = len(x_train_0_1)\n",
    "alpha_0_1, E_0_1 = CLogDKPd_MGmB(x_train_0_1, y_train_0_1, alpha, eta, epochs, d, batch_size)"
   ]
  },
  {
   "cell_type": "code",
   "execution_count": 5,
   "metadata": {},
   "outputs": [],
   "source": [
    "eta = 0.5\n",
    "epochs = 50\n",
    "alpha = np.zeros(len(x_train_0_2))\n",
    "d=2\n",
    "batch_size = len(x_train_0_2)\n",
    "alpha_0_2, E_0_2 = CLogDKPd_MGmB(x_train_0_2, y_train_0_2, alpha, eta, epochs, d, batch_size)"
   ]
  },
  {
   "cell_type": "code",
   "execution_count": 6,
   "metadata": {},
   "outputs": [],
   "source": [
    "eta = 0.5\n",
    "epochs = 50\n",
    "alpha = np.zeros(len(x_train_1_2))\n",
    "d=2\n",
    "batch_size = len(x_train_1_2)\n",
    "alpha_1_2, E_1_2 = CLogDKPd_MGmB(x_train_1_2, y_train_1_2, alpha, eta, epochs, d, batch_size)"
   ]
  },
  {
   "cell_type": "code",
   "execution_count": 7,
   "metadata": {},
   "outputs": [
    {
     "name": "stdout",
     "output_type": "stream",
     "text": [
      "0\n",
      "1\n",
      "2\n"
     ]
    }
   ],
   "source": [
    "X_testes = np.array([[1,1.5,1.5],[1,-1.5,1.5],[1,0.5,-1.5]])\n",
    "for i in range(len(X_testes)):\n",
    "    elemento = X_testes[i]\n",
    "    p_chapeu =0\n",
    "    for i in range(len(x_train_0_1)):\n",
    "        p_chapeu += (alpha_0_1[i] * (np.dot(elemento,x_train_0_1[i])**2) )\n",
    "    previsao_0_1 = (sigmoid(p_chapeu))\n",
    "    p_chapeu =0\n",
    "    for i in range(len(x_train_0_2)):\n",
    "        p_chapeu += (alpha_0_2[i] * (np.dot(elemento,x_train_0_2[i])**2) )\n",
    "    previsao_0_2 = (sigmoid(p_chapeu))\n",
    "    p_chapeu =0\n",
    "    for i in range(len(x_train_1_2)):\n",
    "        p_chapeu += (alpha_1_2[i] * (np.dot(elemento,x_train_1_2[i])**2) )\n",
    "    previsao_1_2 = (sigmoid(p_chapeu))\n",
    "    pontuacao = [0.0, 0.0, 0.0]\n",
    "\n",
    "    # Update scores based on predictions\n",
    "    if threshold(previsao_0_1) == 0:\n",
    "        pontuacao[0] += 1 + previsao_0_1\n",
    "    if threshold(previsao_0_2) == 0:\n",
    "        pontuacao[0] += 1 + previsao_0_2\n",
    "\n",
    "    if threshold(previsao_0_1) == 1:\n",
    "        pontuacao[1] += previsao_0_1\n",
    "    if threshold(previsao_1_2) == 1:\n",
    "        pontuacao[1] += previsao_1_2\n",
    "\n",
    "    if threshold(previsao_1_2) == 0:\n",
    "        pontuacao[2] += 1 + previsao_1_2\n",
    "    if threshold(previsao_0_2) == 1:\n",
    "        pontuacao[2] += previsao_0_2\n",
    "    print(np.argmax(pontuacao))"
   ]
  },
  {
   "cell_type": "code",
   "execution_count": 8,
   "metadata": {},
   "outputs": [
    {
     "data": {
      "text/plain": [
       "3"
      ]
     },
     "execution_count": 8,
     "metadata": {},
     "output_type": "execute_result"
    }
   ],
   "source": [
    "len(X_testes)"
   ]
  },
  {
   "cell_type": "code",
   "execution_count": null,
   "metadata": {},
   "outputs": [],
   "source": [
    "\n"
   ]
  },
  {
   "cell_type": "code",
   "execution_count": null,
   "metadata": {},
   "outputs": [],
   "source": []
  },
  {
   "cell_type": "code",
   "execution_count": null,
   "metadata": {},
   "outputs": [],
   "source": []
  },
  {
   "cell_type": "code",
   "execution_count": null,
   "metadata": {},
   "outputs": [],
   "source": []
  },
  {
   "cell_type": "code",
   "execution_count": null,
   "metadata": {},
   "outputs": [],
   "source": []
  },
  {
   "cell_type": "code",
   "execution_count": null,
   "metadata": {},
   "outputs": [],
   "source": []
  },
  {
   "cell_type": "code",
   "execution_count": null,
   "metadata": {},
   "outputs": [],
   "source": []
  },
  {
   "cell_type": "code",
   "execution_count": null,
   "metadata": {},
   "outputs": [],
   "source": []
  },
  {
   "cell_type": "code",
   "execution_count": null,
   "metadata": {},
   "outputs": [],
   "source": []
  },
  {
   "cell_type": "code",
   "execution_count": null,
   "metadata": {},
   "outputs": [],
   "source": []
  },
  {
   "cell_type": "code",
   "execution_count": null,
   "metadata": {},
   "outputs": [],
   "source": []
  },
  {
   "cell_type": "code",
   "execution_count": null,
   "metadata": {},
   "outputs": [],
   "source": []
  }
 ],
 "metadata": {
  "kernelspec": {
   "display_name": "base",
   "language": "python",
   "name": "python3"
  },
  "language_info": {
   "codemirror_mode": {
    "name": "ipython",
    "version": 3
   },
   "file_extension": ".py",
   "mimetype": "text/x-python",
   "name": "python",
   "nbconvert_exporter": "python",
   "pygments_lexer": "ipython3",
   "version": "3.8.18"
  }
 },
 "nbformat": 4,
 "nbformat_minor": 2
}
