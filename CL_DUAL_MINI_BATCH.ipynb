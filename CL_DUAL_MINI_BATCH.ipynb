{
 "cells": [
  {
   "cell_type": "code",
   "execution_count": 446,
   "metadata": {},
   "outputs": [],
   "source": [
    "import numpy as np\n",
    "import pandas as pd\n",
    "import math\n",
    "import matplotlib.pyplot as plt"
   ]
  },
  {
   "cell_type": "code",
   "execution_count": 447,
   "metadata": {},
   "outputs": [],
   "source": [
    "def sigmoid(z):\n",
    "    return 1 / (1 + np.exp(-z))\n",
    "def sinal(z):\n",
    "    return 1 if z > 0.5 else 0"
   ]
  },
  {
   "cell_type": "code",
   "execution_count": 448,
   "metadata": {},
   "outputs": [],
   "source": [
    "def calculo_accuracy(X, Y, w):\n",
    "    correct_predictions = 0\n",
    "    for i in range(len(X)):\n",
    "        prediction = sigmoid(np.dot(w, X[i]))\n",
    "        if sinal(prediction) == Y[i]:\n",
    "            correct_predictions += 1\n",
    "    accuracy = correct_predictions / len(X)\n",
    "    return accuracy"
   ]
  },
  {
   "cell_type": "code",
   "execution_count": 449,
   "metadata": {},
   "outputs": [],
   "source": [
    "def calcular_erro(y,Y, p_chapeu):\n",
    "    \n",
    "    erro = 0\n",
    "    for n in range(len(Y)):\n",
    "        erro -= (Y * np.log(p_chapeu) + (1 - Y) * np.log(1 - p_chapeu))\n",
    "    return erro / N"
   ]
  },
  {
   "cell_type": "code",
   "execution_count": 450,
   "metadata": {},
   "outputs": [],
   "source": [
    "def calculo_S(p_chapeu, Y, X, ordem):\n",
    "    N = len(X)\n",
    "    S_aux = []\n",
    "    \n",
    "    for n in range(1):\n",
    "        S_aux.append((p_chapeu - Y[ordem]) * np.array([(np.dot(X[l], X[ordem]))**2 for l in range(N)]))\n",
    "    S = np.sum(S_aux,axis=0)\n",
    "    print(S)\n",
    "    print(Y[ordem])\n",
    "    k=np.array([(np.dot(X[l], X[ordem]))**2 for l in range(N)])\n",
    "    print(k)\n",
    "    print((p_chapeu-1)*k)\n",
    "    k=(p_chapeu-1)*k\n",
    "    return S"
   ]
  },
  {
   "cell_type": "code",
   "execution_count": 451,
   "metadata": {},
   "outputs": [],
   "source": [
    "def calculo_Sn(p_chapeu, Y, X, X_batch):\n",
    "    N = len(X)\n",
    "    S_aux = np.zeros(N)  # Iniciando S_aux com zeros para acumulação\n",
    "\n",
    "    for n in range(len(X_batch)):\n",
    "        error = p_chapeu[n] - Y[n]\n",
    "        dot_products = np.dot(X, X[n])^2\n",
    "        S_aux += error * dot_products\n",
    "\n",
    "    S = S_aux / N\n",
    "    print(len(X_batch))\n",
    "    print(S)\n",
    "    return S"
   ]
  },
  {
   "cell_type": "code",
   "execution_count": 452,
   "metadata": {},
   "outputs": [],
   "source": [
    "def calcula_p_chapeu(alpha, X_batch, X):\n",
    "    p_chapeu =[]\n",
    "    N = len(X)\n",
    "    p_aux = []\n",
    "    for n in range(len(X_batch)):\n",
    "        p_chapeu.append((alpha[n] * np.array([np.dot(X[l], X[n])**2 for l in range(N)])))\n",
    "    p_chapeu = sigmoid(np.sum(p_chapeu))\n",
    "    print(p_chapeu)\n",
    "    return p_chapeu "
   ]
  },
  {
   "cell_type": "code",
   "execution_count": 453,
   "metadata": {},
   "outputs": [],
   "source": [
    "def batche(X, Y, percent_to_keep):\n",
    "    num_to_keep = math.ceil(len(X) * percent_to_keep)\n",
    "    if num_to_keep >= len(X):\n",
    "        return X.copy(), Y.copy()\n",
    "    indices_to_keep = np.random.choice(len(X), num_to_keep, replace=False)\n",
    "    X_batch = X[indices_to_keep]\n",
    "    Y_batch = Y[indices_to_keep]\n",
    "    return X_batch, Y_batch       "
   ]
  },
  {
   "cell_type": "code",
   "execution_count": 466,
   "metadata": {},
   "outputs": [],
   "source": [
    "# Algoritmo conforme o pseudocódigo\n",
    "def CLOGMGB(X, Y, alpha, eta,batch_size,epochs):\n",
    "    t=0\n",
    "    E=[]\n",
    "    batch_size = batch_size/len(X)\n",
    "    for epoca in range(epochs):\n",
    "        ordem = np.array([3,2,5])\n",
    "        X_batch=[]\n",
    "        X_batch.append(X[ordem[epoca]-1])\n",
    "        print(\"Usando: \", X_batch[-1])\n",
    "        p_chapeu = calcula_p_chapeu(alpha, X_batch, X)\n",
    "        S = calculo_S(p_chapeu, Y, X, (ordem[epoca]-1))\n",
    "        print(\"antes \",alpha)\n",
    "        alpha = alpha - eta * S\n",
    "        print(\"depois \",S)\n",
    "        \n",
    "    return E, np.array(alpha)"
   ]
  },
  {
   "cell_type": "code",
   "execution_count": null,
   "metadata": {},
   "outputs": [],
   "source": [
    "\n"
   ]
  },
  {
   "cell_type": "code",
   "execution_count": 467,
   "metadata": {},
   "outputs": [
    {
     "name": "stdout",
     "output_type": "stream",
     "text": [
      "Usando:  [1 0 0]\n",
      "0.5\n",
      "[-0.5 -0.5 -0.5 -0.5 -0.5 -0.5]\n",
      "1\n",
      "[1 1 1 1 1 1]\n",
      "[-0.5 -0.5 -0.5 -0.5 -0.5 -0.5]\n",
      "antes  [0. 0. 0. 0. 0. 0.]\n",
      "depois  [-0.5 -0.5 -0.5 -0.5 -0.5 -0.5]\n",
      "Usando:  [ 1 -1 -1]\n",
      "0.9997965730219448\n",
      "[-0.00020343 -0.00183084 -0.00020343 -0.00020343 -0.00081371 -0.00020343]\n",
      "1\n",
      "[1 9 1 1 4 1]\n",
      "[-0.00020343 -0.00183084 -0.00020343 -0.00020343 -0.00081371 -0.00020343]\n",
      "antes  [0.5 0.5 0.5 0.5 0.5 0.5]\n",
      "depois  [-0.00020343 -0.00183084 -0.00020343 -0.00020343 -0.00081371 -0.00020343]\n",
      "Usando:  [ 1 -1  0]\n",
      "0.9997972751676287\n",
      "[3.9991891  3.9991891  0.99979728 0.         3.9991891  0.        ]\n",
      "0\n",
      "[4 4 1 0 4 0]\n",
      "[-0.0008109  -0.0008109  -0.00020272 -0.         -0.0008109  -0.        ]\n",
      "antes  [0.50020343 0.50183084 0.50020343 0.50020343 0.50081371 0.50020343]\n",
      "depois  [3.9991891  3.9991891  0.99979728 0.         3.9991891  0.        ]\n",
      " alpha :  [-3.49898567 -3.49735826 -0.49959385  0.50020343 -3.49837539  0.50020343]\n"
     ]
    }
   ],
   "source": [
    "data = pd.read_csv('Ex3_D.csv', header=None)\n",
    "X = np.array(data.iloc[:, :-1].values)\n",
    "Y = np.array(data.iloc[:, -1].values)\n",
    "Y[Y == -1] = 0\n",
    "eta = 1\n",
    "batch_size = 4\n",
    "epochs = 3\n",
    "alpha = np.zeros(len(X))\n",
    "E, alpha = CLOGMGB(X, Y, alpha, eta, batch_size,epochs)\n",
    "print(\" alpha : \", alpha)"
   ]
  },
  {
   "cell_type": "code",
   "execution_count": 457,
   "metadata": {},
   "outputs": [
    {
     "name": "stdout",
     "output_type": "stream",
     "text": [
      "w relacionado com alpha :  [ 8.50264455 -5.99837258 -3.99837258]\n",
      "Acc =  0.3333333333333333\n"
     ]
    }
   ],
   "source": [
    "# Relacionando o Alpha com w til\n",
    "w = np.array([0, 0, 0])\n",
    "for l in range(len(alpha)):\n",
    "    w = w + alpha[l]*X[l]\n",
    "wr = w\n",
    "print(\"w relacionado com alpha : \", wr)\n",
    "\n",
    "\n",
    "print(\"Acc = \",calculo_accuracy(X, Y, w))"
   ]
  },
  {
   "cell_type": "code",
   "execution_count": 458,
   "metadata": {},
   "outputs": [],
   "source": [
    "X = np.array([[1, 1, 1], [1, 0, 0], [1, 1, 0], [1, 0, 1]])\n",
    "A=np.dot(X,X.T)"
   ]
  },
  {
   "cell_type": "code",
   "execution_count": 459,
   "metadata": {},
   "outputs": [
    {
     "data": {
      "text/plain": [
       "array([[3, 1, 2, 2],\n",
       "       [1, 1, 1, 1],\n",
       "       [2, 1, 2, 1],\n",
       "       [2, 1, 1, 2]])"
      ]
     },
     "execution_count": 459,
     "metadata": {},
     "output_type": "execute_result"
    }
   ],
   "source": [
    "A"
   ]
  },
  {
   "cell_type": "code",
   "execution_count": null,
   "metadata": {},
   "outputs": [],
   "source": []
  },
  {
   "cell_type": "code",
   "execution_count": null,
   "metadata": {},
   "outputs": [],
   "source": []
  },
  {
   "cell_type": "code",
   "execution_count": null,
   "metadata": {},
   "outputs": [],
   "source": []
  },
  {
   "cell_type": "code",
   "execution_count": null,
   "metadata": {},
   "outputs": [],
   "source": []
  },
  {
   "cell_type": "code",
   "execution_count": null,
   "metadata": {},
   "outputs": [],
   "source": []
  },
  {
   "cell_type": "code",
   "execution_count": 460,
   "metadata": {},
   "outputs": [
    {
     "data": {
      "image/png": "[encoded data removed]",
      "text/plain": [
       "<Figure size 640x480 with 1 Axes>"
      ]
     },
     "metadata": {},
     "output_type": "display_data"
    }
   ],
   "source": [
    "t = list(range(len(E)))\n",
    "\n",
    "# Plotando o gráfico\n",
    "plt.plot(t, E, marker='o', linestyle='-')\n",
    "plt.xticks(t)\n",
    "\n",
    "# Configurações adicionais do gráfico\n",
    "plt.xlabel('t')\n",
    "plt.ylabel('E(t)')\n",
    "plt.title('Gráfico de E(t) em função de t')\n",
    "plt.grid(True)\n",
    "\n",
    "# Exibindo o gráfico\n",
    "plt.show()"
   ]
  },
  {
   "cell_type": "code",
   "execution_count": 461,
   "metadata": {},
   "outputs": [
    {
     "data": {
      "text/plain": [
       "[]"
      ]
     },
     "execution_count": 461,
     "metadata": {},
     "output_type": "execute_result"
    }
   ],
   "source": [
    "E"
   ]
  },
  {
   "cell_type": "code",
   "execution_count": null,
   "metadata": {},
   "outputs": [],
   "source": []
  },
  {
   "cell_type": "code",
   "execution_count": 462,
   "metadata": {},
   "outputs": [
    {
     "data": {
      "text/plain": [
       "2"
      ]
     },
     "execution_count": 462,
     "metadata": {},
     "output_type": "execute_result"
    }
   ],
   "source": [
    "np.dot([1,-1,-1],[1,-1,0])"
   ]
  },
  {
   "cell_type": "code",
   "execution_count": 364,
   "metadata": {},
   "outputs": [
    {
     "data": {
      "text/plain": [
       "array([ 0.00866, -0.32206,  0.00866,  0.00866, -0.11536,  0.00866])"
      ]
     },
     "execution_count": 364,
     "metadata": {},
     "output_type": "execute_result"
    }
   ],
   "source": [
    "np.array([0.05,0.05,0.05,0.05,0.05,0.05])-0.1*(1-0.5866)*np.array([1**2,3**2,1**2,(-1)**2,2**2,1**2])"
   ]
  },
  {
   "cell_type": "code",
   "execution_count": null,
   "metadata": {},
   "outputs": [],
   "source": []
  },
  {
   "cell_type": "code",
   "execution_count": 193,
   "metadata": {},
   "outputs": [
    {
     "name": "stdout",
     "output_type": "stream",
     "text": [
      "Elementos selecionados: [30, 20, 60]\n",
      "Índices: [2, 1, 5]\n"
     ]
    }
   ],
   "source": [
    "import random\n",
    "\n",
    "def selecionar_indices_aleatorios(lista, n):\n",
    "    # Seleciona aleatoriamente n índices únicos da lista\n",
    "    indices_aleatorios = random.sample(range(len(lista)), n)\n",
    "    \n",
    "    # Seleciona os elementos correspondentes a esses índices\n",
    "    elementos_selecionados = [lista[i] for i in indices_aleatorios]\n",
    "    \n",
    "    return indices_aleatorios\n",
    "\n",
    "# Exemplo de uso\n",
    "lista = [10, 20, 30, 40, 50, 60]\n",
    "n = 3\n",
    "indices = selecionar_indices_aleatorios(lista, n)\n",
    "\n",
    "for i in range(indices):\n",
    "    f\n",
    "print(\"Elementos selecionados:\", elementos_selecionados)\n",
    "print(\"Índices:\", indices)\n"
   ]
  },
  {
   "cell_type": "code",
   "execution_count": null,
   "metadata": {},
   "outputs": [],
   "source": [
    "# Algoritmo conforme o pseudocódigo\n",
    "def CLOGMGB(X, Y, alpha, eta,batch_size,epochs):\n",
    "    t=0\n",
    "    E=[]\n",
    "    batch_size = batch_size/len(X)\n",
    "    for epoca in range(epochs):\n",
    "        ordem = np.array([3,2,5])\n",
    "        X_batch=[]\n",
    "        X_batch.append(X[ordem[epoca]-1])\n",
    "        print(\"Usando: \", X_batch[-1])\n",
    "        p_chapeu = calcula_p_chapeu(alpha, X_batch, X)\n",
    "        S = calculo_S(p_chapeu, Y, X, (ordem[epoca]-1))\n",
    "        alpha = alpha - eta * S\n",
    "        E.append(calcular_erro(Y,p_chapeu))\n",
    "    return E, np.array(alpha)"
   ]
  },
  {
   "cell_type": "code",
   "execution_count": null,
   "metadata": {},
   "outputs": [],
   "source": []
  },
  {
   "cell_type": "code",
   "execution_count": null,
   "metadata": {},
   "outputs": [],
   "source": []
  },
  {
   "cell_type": "code",
   "execution_count": null,
   "metadata": {},
   "outputs": [],
   "source": []
  },
  {
   "cell_type": "code",
   "execution_count": null,
   "metadata": {},
   "outputs": [],
   "source": []
  },
  {
   "cell_type": "code",
   "execution_count": null,
   "metadata": {},
   "outputs": [],
   "source": []
  },
  {
   "cell_type": "code",
   "execution_count": null,
   "metadata": {},
   "outputs": [],
   "source": []
  },
  {
   "cell_type": "code",
   "execution_count": null,
   "metadata": {},
   "outputs": [],
   "source": []
  },
  {
   "cell_type": "code",
   "execution_count": 429,
   "metadata": {},
   "outputs": [
    {
     "data": {
      "image/png": "[encoded data removed]",
      "text/plain": [
       "<Figure size 640x480 with 1 Axes>"
      ]
     },
     "metadata": {},
     "output_type": "display_data"
    },
    {
     "name": "stdout",
     "output_type": "stream",
     "text": [
      "Classificação correta: False\n",
      "A solução para alpha é:\n",
      "\n",
      "[-1764.24998983  -896.99999548  -478.24999887 -1764.24998983\n",
      "  -478.24999887]\n",
      "O número de iterações do while foi:\n",
      "\n",
      "2000\n",
      "O erro final foi:\n",
      "\n",
      "3.0\n",
      "O vetor das probabilidades é: \n",
      "\n",
      "0.0\n"
     ]
    },
    {
     "name": "stderr",
     "output_type": "stream",
     "text": [
      "C:\\Users\\faust\\AppData\\Local\\Temp\\ipykernel_8532\\457851208.py:7: RuntimeWarning: overflow encountered in exp\n",
      "  return 1 / (1 + np.exp(-x))\n"
     ]
    }
   ],
   "source": [
    "import numpy as np\n",
    "import pandas as pd\n",
    "import matplotlib.pyplot as plt\n",
    "\n",
    "# Função sigma\n",
    "def sigma(x):\n",
    "    return 1 / (1 + np.exp(-x))\n",
    "\n",
    "# Importação dos dados\n",
    "A = pd.read_csv(\"Ex3_D.csv\").values\n",
    "N, n = A.shape\n",
    "B = np.ones((N, 1))\n",
    "X = np.hstack((B, A[:, :2]))\n",
    "X1 = X[:, 1]\n",
    "X2 = X[:, 2]\n",
    "Y = A[:, 2]\n",
    "\n",
    "# Representação gráfica do dataset\n",
    "In = np.where(Y == 1)\n",
    "Ip = np.where(Y == 0)\n",
    "plt.scatter(X1[Ip], X2[Ip], color='blue', label='Class 0')\n",
    "plt.scatter(X1[In], X2[In], color='red', label='Class 1')\n",
    "plt.legend()\n",
    "plt.show()\n",
    "\n",
    "# Aplicação do classificador lógico\n",
    "alpha = np.zeros(N)\n",
    "vec = np.zeros(N)\n",
    "t = 0\n",
    "s = np.zeros(N-1)\n",
    "k = 0\n",
    "eta = 0.5\n",
    "d = 2\n",
    "K = (X @ X.T) ** d\n",
    "\n",
    "while t < 2000:\n",
    "    n = np.random.randint(N)\n",
    "    p = sigma(np.sum(alpha @ K[:, n]))\n",
    "    bal = p - Y[n]\n",
    "    s = bal * (X @ X[n, :].T) ** d\n",
    "    alpha = alpha - eta * s\n",
    "    t += 1\n",
    "\n",
    "Yk = np.zeros(Y.shape)\n",
    "\n",
    "for i in range(N):\n",
    "    p_vect = sigma(np.sum(alpha[i] * K[i, :]))\n",
    "    Yk[i] = 1 if p_vect > 0.5 else 0\n",
    "\n",
    "print(\"Classificação correta:\", np.array_equal(Yk, Y))\n",
    "E = np.sum(np.abs(p - Y))\n",
    "print(f\"A solução para alpha é:\\n\\n{alpha}\")\n",
    "print(f\"O número de iterações do while foi:\\n\\n{t}\")\n",
    "print(f\"O erro final foi:\\n\\n{E}\")\n",
    "print(f\"O vetor das probabilidades é: \\n\\n{p}\")\n",
    "\n",
    "\n"
   ]
  },
  {
   "cell_type": "code",
   "execution_count": 432,
   "metadata": {},
   "outputs": [
    {
     "name": "stdout",
     "output_type": "stream",
     "text": [
      "w relacionado com alpha :  [-5381.99997288 -5381.99997288  2571.99998192]\n",
      "Acc =  0.4\n"
     ]
    },
    {
     "name": "stderr",
     "output_type": "stream",
     "text": [
      "C:\\Users\\faust\\AppData\\Local\\Temp\\ipykernel_8532\\2077356063.py:2: RuntimeWarning: overflow encountered in exp\n",
      "  return 1 / (1 + np.exp(-z))\n"
     ]
    }
   ],
   "source": [
    "# Relacionando o Alpha com w til\n",
    "w = np.array([0, 0, 0])\n",
    "for l in range(len(alpha)):\n",
    "    w = w + alpha[l]*X[l]\n",
    "wr = w\n",
    "print(\"w relacionado com alpha : \", wr)\n",
    "\n",
    "\n",
    "print(\"Acc = \",calculo_accuracy(X, Y, w))"
   ]
  },
  {
   "cell_type": "code",
   "execution_count": null,
   "metadata": {},
   "outputs": [],
   "source": []
  }
 ],
 "metadata": {
  "kernelspec": {
   "display_name": "base",
   "language": "python",
   "name": "python3"
  },
  "language_info": {
   "codemirror_mode": {
    "name": "ipython",
    "version": 3
   },
   "file_extension": ".py",
   "mimetype": "text/x-python",
   "name": "python",
   "nbconvert_exporter": "python",
   "pygments_lexer": "ipython3",
   "version": "3.12.1"
  }
 },
 "nbformat": 4,
 "nbformat_minor": 2
}
