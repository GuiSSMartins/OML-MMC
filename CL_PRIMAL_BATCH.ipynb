{
 "cells": [
  {
   "cell_type": "code",
   "execution_count": 1,
   "metadata": {},
   "outputs": [
    {
     "ename": "IndexError",
     "evalue": "list index out of range",
     "output_type": "error",
     "traceback": [
      "\u001b[1;31m---------------------------------------------------------------------------\u001b[0m",
      "\u001b[1;31mIndexError\u001b[0m                                Traceback (most recent call last)",
      "Cell \u001b[1;32mIn[1], line 54\u001b[0m\n\u001b[0;32m     52\u001b[0m eta \u001b[38;5;241m=\u001b[39m \u001b[38;5;241m1\u001b[39m\n\u001b[0;32m     53\u001b[0m w0 \u001b[38;5;241m=\u001b[39m np\u001b[38;5;241m.\u001b[39marray([\u001b[38;5;241m0.0\u001b[39m, \u001b[38;5;241m0.0\u001b[39m, \u001b[38;5;241m0.0\u001b[39m])\n\u001b[1;32m---> 54\u001b[0m w \u001b[38;5;241m=\u001b[39m \u001b[43mCLOGMGB\u001b[49m\u001b[43m(\u001b[49m\u001b[43mX\u001b[49m\u001b[43m,\u001b[49m\u001b[43m \u001b[49m\u001b[43mY\u001b[49m\u001b[43m,\u001b[49m\u001b[43m \u001b[49m\u001b[43mw0\u001b[49m\u001b[43m,\u001b[49m\u001b[43m \u001b[49m\u001b[43meta\u001b[49m\u001b[43m)\u001b[49m\n\u001b[0;32m     56\u001b[0m \u001b[38;5;28mprint\u001b[39m(calculo_accuracy(X, Y, w))\n",
      "Cell \u001b[1;32mIn[1], line 41\u001b[0m, in \u001b[0;36mCLOGMGB\u001b[1;34m(X, Y, w, eta)\u001b[0m\n\u001b[0;32m     39\u001b[0m \u001b[38;5;28;01mwhile\u001b[39;00m \u001b[38;5;28;01mTrue\u001b[39;00m:\n\u001b[0;32m     40\u001b[0m     p_chapeu \u001b[38;5;241m=\u001b[39m calcula_p_chapeu(w,X[\u001b[38;5;241m1\u001b[39m:\u001b[38;5;241m3\u001b[39m])\n\u001b[1;32m---> 41\u001b[0m     S \u001b[38;5;241m=\u001b[39m \u001b[43mcalculo_S\u001b[49m\u001b[43m(\u001b[49m\u001b[43mp_chapeu\u001b[49m\u001b[43m,\u001b[49m\u001b[43m \u001b[49m\u001b[43mY\u001b[49m\u001b[43m,\u001b[49m\u001b[43m \u001b[49m\u001b[43mX\u001b[49m\u001b[43m)\u001b[49m\n\u001b[0;32m     42\u001b[0m     w \u001b[38;5;241m=\u001b[39m w \u001b[38;5;241m-\u001b[39m eta \u001b[38;5;241m*\u001b[39m S\n\u001b[0;32m     43\u001b[0m     \u001b[38;5;28;01mif\u001b[39;00m calculo_accuracy(X, Y, w) \u001b[38;5;241m>\u001b[39m \u001b[38;5;241m0.9\u001b[39m:\n",
      "Cell \u001b[1;32mIn[1], line 25\u001b[0m, in \u001b[0;36mcalculo_S\u001b[1;34m(p_chapeu, Y, X)\u001b[0m\n\u001b[0;32m     23\u001b[0m S \u001b[38;5;241m=\u001b[39m \u001b[38;5;241m0\u001b[39m\n\u001b[0;32m     24\u001b[0m \u001b[38;5;28;01mfor\u001b[39;00m n \u001b[38;5;129;01min\u001b[39;00m \u001b[38;5;28mrange\u001b[39m(N):\n\u001b[1;32m---> 25\u001b[0m     S \u001b[38;5;241m+\u001b[39m\u001b[38;5;241m=\u001b[39m (\u001b[43mp_chapeu\u001b[49m\u001b[43m[\u001b[49m\u001b[43mn\u001b[49m\u001b[43m]\u001b[49m \u001b[38;5;241m-\u001b[39m Y[n]) \u001b[38;5;241m*\u001b[39m X[n]\n\u001b[0;32m     26\u001b[0m \u001b[38;5;28;01mreturn\u001b[39;00m S \u001b[38;5;241m/\u001b[39m N\n",
      "\u001b[1;31mIndexError\u001b[0m: list index out of range"
     ]
    }
   ],
   "source": [
    "import numpy as np\n",
    "\n",
    "def calculo_accuracy(X, Y, w):\n",
    "    #Calculando a acurácia\n",
    "    correct_predictions = 0\n",
    "    for i in range(len(X)):\n",
    "        prediction = sigmoid(np.dot(w, X[i]))\n",
    "        print(\"Preveu \",prediction)\n",
    "        if sinal(prediction) == Y[i]:\n",
    "                correct_predictions += 1\n",
    "    accuracy = correct_predictions / len(X)\n",
    "    print(\"Acurácia:\", accuracy)\n",
    "    return accuracy\n",
    "\n",
    "\n",
    "def sigmoid(z):\n",
    "    return 1 / (1 + np.exp(-z))\n",
    "def sinal(z):\n",
    "    return 1 if z > 0.5 else -1\n",
    "\n",
    "def calculo_S(p_chapeu, Y, X):\n",
    "    B = len(X)\n",
    "    S = 0\n",
    "    for n in range(B):\n",
    "        S += (p_chapeu[n] - Y[n]) * X[n]\n",
    "    return S / B\n",
    "\n",
    "def calcula_p_chapeu(w, X):\n",
    "    p_chapeu =[]\n",
    "    for n in range(len(X)):\n",
    "        p_chapeu.append(np.dot(w,X[n]))\n",
    "    return p_chapeu      \n",
    "        \n",
    "        \n",
    "\n",
    "# Algoritmo conforme o pseudocódigo\n",
    "def CLOGMGB(X, Y, w, eta):\n",
    "    t=0\n",
    "    while True:\n",
    "        p_chapeu = calcula_p_chapeu(w,X[])\n",
    "        S = calculo_S(p_chapeu, Y, X)\n",
    "        w = w - eta * S\n",
    "        if calculo_accuracy(X, Y, w) > 0.9:\n",
    "            return w\n",
    "        else:\n",
    "            t += 1\n",
    "            \n",
    "            \n",
    "# Dados de entrada\n",
    "X = np.array([[1, 1, 1], [1, 0, 0], [1, 1, 0], [1, 0, 1]])\n",
    "Y = np.array([1, -1, -1, -1])\n",
    "eta = 1\n",
    "w0 = np.array([0.0, 0.0, 0.0])\n",
    "w = CLOGMGB(X, Y, w0, eta)\n",
    "\n",
    "print(calculo_accuracy(X, Y, w))\n",
    "\n"
   ]
  },
  {
   "cell_type": "code",
   "execution_count": null,
   "metadata": {},
   "outputs": [],
   "source": []
  }
 ],
 "metadata": {
  "kernelspec": {
   "display_name": "base",
   "language": "python",
   "name": "python3"
  },
  "language_info": {
   "codemirror_mode": {
    "name": "ipython",
    "version": 3
   },
   "file_extension": ".py",
   "mimetype": "text/x-python",
   "name": "python",
   "nbconvert_exporter": "python",
   "pygments_lexer": "ipython3",
   "version": "3.12.1"
  }
 },
 "nbformat": 4,
 "nbformat_minor": 2
}
