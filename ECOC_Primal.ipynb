{
 "cells": [
  {
   "cell_type": "code",
   "execution_count": null,
   "metadata": {},
   "outputs": [],
   "source": [
    "from CLOGP import MGmB, calculo_S, batche, calcula_p_chapeu, calculo_accuracy, calcular_erro, sigmoid, sinal\n",
    "import numpy as np\n",
    "import pandas as pd\n",
    "import matplotlib.pyplot as plt\n",
    "from tensorflow.keras.datasets import mnist\n",
    "from sklearn.metrics import confusion_matrix\n",
    "import seaborn as sns\n",
    "# carregar dataset\n",
    "(x_train, y_train), (x_test, y_test) = mnist.load_data()"
   ]
  },
  {
   "cell_type": "code",
   "execution_count": null,
   "metadata": {},
   "outputs": [],
   "source": [
    "def exhaustive_code(k):\n",
    "    segment_length = 2**(k-1) - 1\n",
    "    codes = []\n",
    "    # Vamos admitir que irá sempre receber k=4\n",
    "    codes.append([1]*segment_length)\n",
    "\n",
    "    row = []\n",
    "    segment_length = 2**(k-2)\n",
    "    row.extend([0] * segment_length)\n",
    "    row.extend([1] * (segment_length - 1))\n",
    "    codes.append(row)\n",
    "    \n",
    "    row = []\n",
    "    segment_length = 2**(k-3)\n",
    "    row.extend([0] * segment_length)\n",
    "    row.extend([1] * segment_length)\n",
    "    row.extend([0] * segment_length)\n",
    "    row.extend([1] * (segment_length - 1))\n",
    "    codes.append(row)\n",
    "\n",
    "    codes.append([0,1,0,1,0,1,0])\n",
    "    \n",
    "    return codes\n",
    "\n",
    "k = 4\n",
    "code = exhaustive_code(k)\n",
    "for row in code:\n",
    "    print(row)"
   ]
  },
  {
   "cell_type": "code",
   "execution_count": null,
   "metadata": {},
   "outputs": [],
   "source": [
    "# ficar só os 100 primeiros de cada classe\n",
    "def select_first_n_per_class(x, y, n):\n",
    "    x_selected = []\n",
    "    y_selected = []\n",
    "    \n",
    "    for digit in np.unique(y):\n",
    "        idx = np.where(y == digit)[0][:n]\n",
    "        x_selected.append(x[idx])\n",
    "        y_selected.append(y[idx])\n",
    "    \n",
    "    return np.concatenate(x_selected), np.concatenate(y_selected)"
   ]
  },
  {
   "cell_type": "code",
   "execution_count": null,
   "metadata": {},
   "outputs": [],
   "source": []
  },
  {
   "cell_type": "code",
   "execution_count": null,
   "metadata": {},
   "outputs": [],
   "source": []
  },
  {
   "cell_type": "code",
   "execution_count": null,
   "metadata": {},
   "outputs": [],
   "source": []
  },
  {
   "cell_type": "code",
   "execution_count": null,
   "metadata": {},
   "outputs": [],
   "source": []
  },
  {
   "cell_type": "code",
   "execution_count": null,
   "metadata": {},
   "outputs": [],
   "source": []
  },
  {
   "cell_type": "code",
   "execution_count": null,
   "metadata": {},
   "outputs": [],
   "source": []
  }
 ],
 "metadata": {
  "language_info": {
   "name": "python"
  }
 },
 "nbformat": 4,
 "nbformat_minor": 2
}
